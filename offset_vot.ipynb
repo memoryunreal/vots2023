{
 "cells": [
  {
   "cell_type": "code",
   "execution_count": 12,
   "metadata": {},
   "outputs": [],
   "source": [
    "import os\n",
    "import sys\n",
    "sys.path.insert(0,\"./\")\n",
    "import vot\n",
    "import cv2\n",
    "from PIL import Image\n",
    "import numpy as np\n"
   ]
  },
  {
   "cell_type": "code",
   "execution_count": 13,
   "metadata": {},
   "outputs": [],
   "source": [
    "votdir = \"/home/lizhe/paper/vots2023/workspace\"\n",
    "bag_color = np.asarray(Image.open(\"/home/lizhe/paper/vots2023/bag.png\"))\n",
    "bag_mask = np.asarray(Image.open(\"/home/lizhe/paper/vots2023/bag_mask.png\"))"
   ]
  },
  {
   "cell_type": "code",
   "execution_count": 3,
   "metadata": {},
   "outputs": [
    {
     "data": {
      "text/plain": [
       "(720, 1280, 3)"
      ]
     },
     "execution_count": 3,
     "metadata": {},
     "output_type": "execute_result"
    }
   ],
   "source": [
    "bag_color.shape"
   ]
  },
  {
   "cell_type": "code",
   "execution_count": 4,
   "metadata": {},
   "outputs": [
    {
     "data": {
      "text/plain": [
       "(501, 652)"
      ]
     },
     "execution_count": 4,
     "metadata": {},
     "output_type": "execute_result"
    }
   ],
   "source": [
    "bag_mask.shape\n"
   ]
  },
  {
   "cell_type": "code",
   "execution_count": 18,
   "metadata": {},
   "outputs": [
    {
     "data": {
      "text/plain": [
       "numpy.ndarray"
      ]
     },
     "execution_count": 18,
     "metadata": {},
     "output_type": "execute_result"
    }
   ],
   "source": [
    "image_shape = bag_color.shape[:2]\n",
    "mask_shape = bag_mask.shape\n",
    "pad_x = image_shape[1] - mask_shape[1]\n",
    "pad_y = image_shape[0] - mask_shape[0]\n",
    "\n",
    "mask_padded = np.pad(bag_mask, ( (0, pad_y), (0, pad_x)), 'constant', constant_values=0)\n",
    "Image.fromarray(mask_padded).save(\"/home/lizhe/paper/vots2023/mask_padded.png\")\n",
    "mask_padded.shape\n",
    "type(mask_padded)"
   ]
  },
  {
   "cell_type": "code",
   "execution_count": 19,
   "metadata": {},
   "outputs": [],
   "source": [
    "from PIL import Image\n",
    "\n",
    "# 假设你的 image 和 mask 都是 PIL.Image 对象\n",
    "# image 是 RGB 格式，mask 是灰度格式（只有0和255两个值）\n",
    "\n",
    "# 首先，将 mask 转换为 RGBA 格式，半透明\n",
    "mask_padded = Image.fromarray(mask_padded)\n",
    "\n",
    "mask_rgba = Image.new(\"RGBA\", mask_padded.size)\n",
    "for x in range(mask_padded.width):\n",
    "    for y in range(mask_padded.height):\n",
    "        value = mask_padded.getpixel((x,y))\n",
    "        if value == 255:\n",
    "            mask_rgba.putpixel((x,y), (255, 0, 0, 127)) # 红色，半透明\n",
    "        else:\n",
    "            mask_rgba.putpixel((x,y), (0, 0, 0, 0)) # 完全透明\n",
    "\n",
    "# 然后，将 RGB 图像转换为 RGBA\n",
    "image_rgba = Image.fromarray(bag_color).convert(\"RGBA\")\n",
    "\n",
    "# 最后，将两个 RGBA 图像混合在一起\n",
    "blend = Image.alpha_composite(image_rgba, mask_rgba)\n",
    "\n",
    "# 保存混合后的图像\n",
    "blend.save(\"/home/lizhe/paper/vots2023/blend.png\")"
   ]
  },
  {
   "cell_type": "code",
   "execution_count": null,
   "metadata": {},
   "outputs": [],
   "source": [
    "\n",
    "mask_vis = \"/home/lizhe/paper/vots2023/mask_vis\"\n",
    "seq_dir = os.path.join(votdir, \"sequences\")\n",
    "seqlist = os.listdir(mask_vis)\n",
    "seqlist.sort()\n",
    "\n",
    "for seq in seqlist:\n",
    "    image = np.asarray(Image.open(os.path.join(seq_dir, seq, \"color\", \"00000001.jpg\")))\n",
    "    image_shape = image.shape[:2]\n",
    "\n",
    "    masks = os.listdir(os.path.join(mask_vis, seq))\n",
    "    id = 1\n",
    "    mask_0 = np.asarray(Image.open(os.path.join(mask_vis, seq, masks[0]))) \n",
    "    if mask_0.shape == image_shape:\n",
    "        continue\n",
    "    for mask in masks:\n",
    "        mask = np.asarray(Image.open(os.path.join(mask_vis, seq, mask)))\n",
    "        mask_shape = mask.shape\n",
    "        pad_x = image_shape[1] - mask_shape[1]\n",
    "        pad_y = image_shape[0] - mask_shape[0]\n",
    "\n",
    "        mask_padded = np.pad(mask, ( (0, pad_y), (0, pad_x)), 'constant', constant_values=0)\n",
    "        # Image.fromarray(mask_padded).save(os.path.join(mask_vis, seq, mask))\n",
    "        mask_padded = Image.fromarray(mask_padded)\n",
    "\n",
    "        mask_rgba = Image.new(\"RGBA\", mask_padded.size)\n",
    "        for x in range(mask_padded.width):\n",
    "            for y in range(mask_padded.height):\n",
    "                value = mask_padded.getpixel((x,y))\n",
    "                if value == 255:\n",
    "                    mask_rgba.putpixel((x,y), (255, 0, 0, 127)) # 红色，半透明\n",
    "                else:\n",
    "                    mask_rgba.putpixel((x,y), (0, 0, 0, 0)) # 完全透明\n",
    "\n",
    "        # 然后，将 RGB 图像转换为 RGBA\n",
    "        image_rgba = Image.fromarray(image).convert(\"RGBA\")\n",
    "\n",
    "        # 最后，将两个 RGBA 图像混合在一起\n",
    "        blend = Image.alpha_composite(image_rgba, mask_rgba)\n",
    "\n",
    "        # 保存混合后的图像\n",
    "        blend.save(os.path.join(\"/home/lizhe/paper/vots2023/mask_064\",\"{}_{}.png\".format(seq, id)))\n",
    "        id += 1"
   ]
  }
 ],
 "metadata": {
  "kernelspec": {
   "display_name": "vot",
   "language": "python",
   "name": "python3"
  },
  "language_info": {
   "codemirror_mode": {
    "name": "ipython",
    "version": 3
   },
   "file_extension": ".py",
   "mimetype": "text/x-python",
   "name": "python",
   "nbconvert_exporter": "python",
   "pygments_lexer": "ipython3",
   "version": "3.11.3"
  },
  "orig_nbformat": 4
 },
 "nbformat": 4,
 "nbformat_minor": 2
}
